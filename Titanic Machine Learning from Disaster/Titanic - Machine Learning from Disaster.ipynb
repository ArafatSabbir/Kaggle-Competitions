{
 "cells": [
  {
   "cell_type": "markdown",
   "metadata": {},
   "source": [
    "## Import library and datasets"
   ]
  },
  {
   "cell_type": "code",
   "execution_count": 13,
   "metadata": {
    "ExecuteTime": {
     "end_time": "2020-09-10T13:06:30.704888Z",
     "start_time": "2020-09-10T13:06:30.671977Z"
    }
   },
   "outputs": [],
   "source": [
    "# Importing libraries\n",
    "import pandas as pd    \n",
    "import numpy as np\n",
    "# Reading data to Dataframes\n",
    "    \n",
    "data_train = pd.read_csv('Datasets/train.csv')\n",
    "data_test = pd.read_csv('Datasets/test.csv')\n",
    "data_check = pd.read_csv('Datasets/test_result.csv')"
   ]
  },
  {
   "cell_type": "code",
   "execution_count": 14,
   "metadata": {
    "ExecuteTime": {
     "end_time": "2020-09-10T13:06:30.720804Z",
     "start_time": "2020-09-10T13:06:30.705843Z"
    }
   },
   "outputs": [],
   "source": [
    "#changing column name\n",
    "    \n",
    "data_train = data_train.rename(columns = {'Pclass' : 'TicketClass'})\n",
    "data_test = data_test.rename(columns = {'Pclass' : 'TicketClass'})"
   ]
  },
  {
   "cell_type": "code",
   "execution_count": 15,
   "metadata": {
    "ExecuteTime": {
     "end_time": "2020-09-10T13:06:30.737004Z",
     "start_time": "2020-09-10T13:06:30.725793Z"
    }
   },
   "outputs": [],
   "source": [
    "#Removing unused columns\n",
    "data_train = data_train.drop(['Name','Ticket','Fare','Cabin','Embarked','Age'],axis =1)\n",
    "data_test = data_test.drop(['Name','Age','Ticket','Fare','Cabin','Embarked'], axis =1)"
   ]
  },
  {
   "cell_type": "code",
   "execution_count": 16,
   "metadata": {
    "ExecuteTime": {
     "end_time": "2020-09-10T13:06:30.752717Z",
     "start_time": "2020-09-10T13:06:30.738754Z"
    }
   },
   "outputs": [
    {
     "data": {
      "text/html": [
       "<div>\n",
       "<style scoped>\n",
       "    .dataframe tbody tr th:only-of-type {\n",
       "        vertical-align: middle;\n",
       "    }\n",
       "\n",
       "    .dataframe tbody tr th {\n",
       "        vertical-align: top;\n",
       "    }\n",
       "\n",
       "    .dataframe thead th {\n",
       "        text-align: right;\n",
       "    }\n",
       "</style>\n",
       "<table border=\"1\" class=\"dataframe\">\n",
       "  <thead>\n",
       "    <tr style=\"text-align: right;\">\n",
       "      <th></th>\n",
       "      <th>PassengerId</th>\n",
       "      <th>TicketClass</th>\n",
       "      <th>Sex</th>\n",
       "      <th>SibSp</th>\n",
       "      <th>Parch</th>\n",
       "    </tr>\n",
       "  </thead>\n",
       "  <tbody>\n",
       "    <tr>\n",
       "      <th>0</th>\n",
       "      <td>892</td>\n",
       "      <td>3</td>\n",
       "      <td>male</td>\n",
       "      <td>0</td>\n",
       "      <td>0</td>\n",
       "    </tr>\n",
       "    <tr>\n",
       "      <th>1</th>\n",
       "      <td>893</td>\n",
       "      <td>3</td>\n",
       "      <td>female</td>\n",
       "      <td>1</td>\n",
       "      <td>0</td>\n",
       "    </tr>\n",
       "    <tr>\n",
       "      <th>2</th>\n",
       "      <td>894</td>\n",
       "      <td>2</td>\n",
       "      <td>male</td>\n",
       "      <td>0</td>\n",
       "      <td>0</td>\n",
       "    </tr>\n",
       "    <tr>\n",
       "      <th>3</th>\n",
       "      <td>895</td>\n",
       "      <td>3</td>\n",
       "      <td>male</td>\n",
       "      <td>0</td>\n",
       "      <td>0</td>\n",
       "    </tr>\n",
       "    <tr>\n",
       "      <th>4</th>\n",
       "      <td>896</td>\n",
       "      <td>3</td>\n",
       "      <td>female</td>\n",
       "      <td>1</td>\n",
       "      <td>1</td>\n",
       "    </tr>\n",
       "  </tbody>\n",
       "</table>\n",
       "</div>"
      ],
      "text/plain": [
       "   PassengerId  TicketClass     Sex  SibSp  Parch\n",
       "0          892            3    male      0      0\n",
       "1          893            3  female      1      0\n",
       "2          894            2    male      0      0\n",
       "3          895            3    male      0      0\n",
       "4          896            3  female      1      1"
      ]
     },
     "execution_count": 16,
     "metadata": {},
     "output_type": "execute_result"
    }
   ],
   "source": [
    "data_test.head()"
   ]
  },
  {
   "cell_type": "code",
   "execution_count": 17,
   "metadata": {
    "ExecuteTime": {
     "end_time": "2020-09-10T13:06:30.768713Z",
     "start_time": "2020-09-10T13:06:30.753716Z"
    }
   },
   "outputs": [],
   "source": [
    "#Importing LabelEncoder from Sklearn\n",
    "from sklearn.preprocessing import LabelEncoder\n",
    "label_encoder_sex = LabelEncoder()"
   ]
  },
  {
   "cell_type": "code",
   "execution_count": 23,
   "metadata": {
    "ExecuteTime": {
     "end_time": "2020-09-10T13:07:26.544565Z",
     "start_time": "2020-09-10T13:07:26.533572Z"
    }
   },
   "outputs": [],
   "source": [
    "# Transforming sex column values using label Encoder\n",
    "data_train.iloc[:,3]  = label_encoder_sex.fit_transform(data_train.iloc[:,3])\n",
    "data_test.iloc[:,1] = label_encoder_sex.fit_transform(data_test.iloc[:,1])"
   ]
  },
  {
   "cell_type": "code",
   "execution_count": 24,
   "metadata": {
    "ExecuteTime": {
     "end_time": "2020-09-10T13:07:28.840982Z",
     "start_time": "2020-09-10T13:07:28.821260Z"
    }
   },
   "outputs": [],
   "source": [
    "data_train = data_train[['PassengerId','Sex','SibSp','Parch','TicketClass','Survived']]\n",
    "data_test = data_test[['PassengerId','Sex','SibSp','Parch','TicketClass']]"
   ]
  },
  {
   "cell_type": "code",
   "execution_count": 25,
   "metadata": {
    "ExecuteTime": {
     "end_time": "2020-09-10T13:07:30.962781Z",
     "start_time": "2020-09-10T13:07:30.941836Z"
    }
   },
   "outputs": [
    {
     "data": {
      "text/html": [
       "<div>\n",
       "<style scoped>\n",
       "    .dataframe tbody tr th:only-of-type {\n",
       "        vertical-align: middle;\n",
       "    }\n",
       "\n",
       "    .dataframe tbody tr th {\n",
       "        vertical-align: top;\n",
       "    }\n",
       "\n",
       "    .dataframe thead th {\n",
       "        text-align: right;\n",
       "    }\n",
       "</style>\n",
       "<table border=\"1\" class=\"dataframe\">\n",
       "  <thead>\n",
       "    <tr style=\"text-align: right;\">\n",
       "      <th></th>\n",
       "      <th>PassengerId</th>\n",
       "      <th>Sex</th>\n",
       "      <th>SibSp</th>\n",
       "      <th>Parch</th>\n",
       "      <th>TicketClass</th>\n",
       "    </tr>\n",
       "  </thead>\n",
       "  <tbody>\n",
       "    <tr>\n",
       "      <th>0</th>\n",
       "      <td>892</td>\n",
       "      <td>1</td>\n",
       "      <td>0</td>\n",
       "      <td>0</td>\n",
       "      <td>2</td>\n",
       "    </tr>\n",
       "    <tr>\n",
       "      <th>1</th>\n",
       "      <td>893</td>\n",
       "      <td>0</td>\n",
       "      <td>1</td>\n",
       "      <td>0</td>\n",
       "      <td>2</td>\n",
       "    </tr>\n",
       "    <tr>\n",
       "      <th>2</th>\n",
       "      <td>894</td>\n",
       "      <td>1</td>\n",
       "      <td>0</td>\n",
       "      <td>0</td>\n",
       "      <td>1</td>\n",
       "    </tr>\n",
       "    <tr>\n",
       "      <th>3</th>\n",
       "      <td>895</td>\n",
       "      <td>1</td>\n",
       "      <td>0</td>\n",
       "      <td>0</td>\n",
       "      <td>2</td>\n",
       "    </tr>\n",
       "    <tr>\n",
       "      <th>4</th>\n",
       "      <td>896</td>\n",
       "      <td>0</td>\n",
       "      <td>1</td>\n",
       "      <td>1</td>\n",
       "      <td>2</td>\n",
       "    </tr>\n",
       "  </tbody>\n",
       "</table>\n",
       "</div>"
      ],
      "text/plain": [
       "   PassengerId  Sex  SibSp  Parch  TicketClass\n",
       "0          892    1      0      0            2\n",
       "1          893    0      1      0            2\n",
       "2          894    1      0      0            1\n",
       "3          895    1      0      0            2\n",
       "4          896    0      1      1            2"
      ]
     },
     "execution_count": 25,
     "metadata": {},
     "output_type": "execute_result"
    }
   ],
   "source": [
    "data_train.head()\n",
    "data_test.head()"
   ]
  },
  {
   "cell_type": "code",
   "execution_count": 26,
   "metadata": {
    "ExecuteTime": {
     "end_time": "2020-09-10T13:07:34.861390Z",
     "start_time": "2020-09-10T13:07:34.847470Z"
    }
   },
   "outputs": [],
   "source": [
    "X_train = data_train.iloc[:,0:5]\n",
    "y_train = data_train.iloc[:,5]  "
   ]
  },
  {
   "cell_type": "code",
   "execution_count": 27,
   "metadata": {
    "ExecuteTime": {
     "end_time": "2020-09-10T13:07:36.793188Z",
     "start_time": "2020-09-10T13:07:36.770208Z"
    }
   },
   "outputs": [],
   "source": [
    "from sklearn.preprocessing import StandardScaler\n",
    "sc = StandardScaler()\n",
    "X_train = sc.fit_transform(X_train)\n",
    "X_test = sc.fit_transform(data_test)"
   ]
  },
  {
   "cell_type": "code",
   "execution_count": 28,
   "metadata": {
    "ExecuteTime": {
     "end_time": "2020-09-10T13:07:40.826505Z",
     "start_time": "2020-09-10T13:07:38.606332Z"
    }
   },
   "outputs": [],
   "source": [
    "import keras\n",
    "from keras.models import Sequential\n",
    "from keras.layers import Dense"
   ]
  },
  {
   "cell_type": "code",
   "execution_count": 29,
   "metadata": {
    "ExecuteTime": {
     "end_time": "2020-09-10T13:07:44.355995Z",
     "start_time": "2020-09-10T13:07:44.346060Z"
    }
   },
   "outputs": [],
   "source": [
    "classifier = Sequential()"
   ]
  },
  {
   "cell_type": "code",
   "execution_count": 30,
   "metadata": {
    "ExecuteTime": {
     "end_time": "2020-09-10T13:07:47.158264Z",
     "start_time": "2020-09-10T13:07:46.645261Z"
    }
   },
   "outputs": [],
   "source": [
    "#Input layer with 5 inputs neurons\n",
    "classifier.add(Dense(3,  activation = 'relu', input_dim = 5))\n",
    "#Hidden layer\n",
    "classifier.add(Dense(2,  activation = 'relu'))\n",
    "#output layer with 1 output neuron which will predict 1 or 0\n",
    "classifier.add(Dense(1, activation = 'sigmoid'))"
   ]
  },
  {
   "cell_type": "code",
   "execution_count": 31,
   "metadata": {
    "ExecuteTime": {
     "end_time": "2020-09-10T13:07:51.563694Z",
     "start_time": "2020-09-10T13:07:51.544749Z"
    }
   },
   "outputs": [],
   "source": [
    "classifier.compile(optimizer = 'adam', loss = 'binary_crossentropy', metrics = ['accuracy'])"
   ]
  },
  {
   "cell_type": "code",
   "execution_count": 33,
   "metadata": {
    "ExecuteTime": {
     "end_time": "2020-09-10T13:08:30.084962Z",
     "start_time": "2020-09-10T13:08:20.764607Z"
    }
   },
   "outputs": [
    {
     "name": "stdout",
     "output_type": "stream",
     "text": [
      "Epoch 1/100\n",
      "90/90 [==============================] - 0s 889us/step - loss: 0.6982 - accuracy: 0.5814\n",
      "Epoch 2/100\n",
      "90/90 [==============================] - 0s 931us/step - loss: 0.6832 - accuracy: 0.6184\n",
      "Epoch 3/100\n",
      "90/90 [==============================] - 0s 1ms/step - loss: 0.6713 - accuracy: 0.6689\n",
      "Epoch 4/100\n",
      "90/90 [==============================] - 0s 1ms/step - loss: 0.6597 - accuracy: 0.6846\n",
      "Epoch 5/100\n",
      "90/90 [==============================] - 0s 921us/step - loss: 0.6476 - accuracy: 0.6891\n",
      "Epoch 6/100\n",
      "90/90 [==============================] - 0s 922us/step - loss: 0.6319 - accuracy: 0.7071\n",
      "Epoch 7/100\n",
      "90/90 [==============================] - 0s 967us/step - loss: 0.6137 - accuracy: 0.7295\n",
      "Epoch 8/100\n",
      "90/90 [==============================] - 0s 913us/step - loss: 0.5964 - accuracy: 0.7430\n",
      "Epoch 9/100\n",
      "90/90 [==============================] - 0s 922us/step - loss: 0.5801 - accuracy: 0.7430\n",
      "Epoch 10/100\n",
      "90/90 [==============================] - 0s 1ms/step - loss: 0.5668 - accuracy: 0.7486\n",
      "Epoch 11/100\n",
      "90/90 [==============================] - 0s 1ms/step - loss: 0.5550 - accuracy: 0.7475\n",
      "Epoch 12/100\n",
      "90/90 [==============================] - 0s 1ms/step - loss: 0.5446 - accuracy: 0.7520\n",
      "Epoch 13/100\n",
      "90/90 [==============================] - 0s 1ms/step - loss: 0.5297 - accuracy: 0.7464\n",
      "Epoch 14/100\n",
      "90/90 [==============================] - 0s 1ms/step - loss: 0.5157 - accuracy: 0.7587\n",
      "Epoch 15/100\n",
      "90/90 [==============================] - 0s 922us/step - loss: 0.5055 - accuracy: 0.7845\n",
      "Epoch 16/100\n",
      "90/90 [==============================] - 0s 931us/step - loss: 0.4972 - accuracy: 0.7969\n",
      "Epoch 17/100\n",
      "90/90 [==============================] - 0s 888us/step - loss: 0.4906 - accuracy: 0.7957\n",
      "Epoch 18/100\n",
      "90/90 [==============================] - 0s 886us/step - loss: 0.4847 - accuracy: 0.7991\n",
      "Epoch 19/100\n",
      "90/90 [==============================] - 0s 954us/step - loss: 0.4801 - accuracy: 0.7991\n",
      "Epoch 20/100\n",
      "90/90 [==============================] - 0s 1ms/step - loss: 0.4758 - accuracy: 0.8036\n",
      "Epoch 21/100\n",
      "90/90 [==============================] - 0s 1ms/step - loss: 0.4723 - accuracy: 0.8036\n",
      "Epoch 22/100\n",
      "90/90 [==============================] - 0s 872us/step - loss: 0.4687 - accuracy: 0.8036\n",
      "Epoch 23/100\n",
      "90/90 [==============================] - 0s 926us/step - loss: 0.4660 - accuracy: 0.8036\n",
      "Epoch 24/100\n",
      "90/90 [==============================] - 0s 922us/step - loss: 0.4634 - accuracy: 0.8036\n",
      "Epoch 25/100\n",
      "90/90 [==============================] - 0s 930us/step - loss: 0.4611 - accuracy: 0.8047\n",
      "Epoch 26/100\n",
      "90/90 [==============================] - 0s 922us/step - loss: 0.4592 - accuracy: 0.8047\n",
      "Epoch 27/100\n",
      "90/90 [==============================] - 0s 946us/step - loss: 0.4575 - accuracy: 0.8036\n",
      "Epoch 28/100\n",
      "90/90 [==============================] - 0s 883us/step - loss: 0.4555 - accuracy: 0.8058\n",
      "Epoch 29/100\n",
      "90/90 [==============================] - 0s 960us/step - loss: 0.4543 - accuracy: 0.8036\n",
      "Epoch 30/100\n",
      "90/90 [==============================] - 0s 938us/step - loss: 0.4530 - accuracy: 0.8036\n",
      "Epoch 31/100\n",
      "90/90 [==============================] - 0s 1ms/step - loss: 0.4518 - accuracy: 0.8058\n",
      "Epoch 32/100\n",
      "90/90 [==============================] - 0s 1ms/step - loss: 0.4506 - accuracy: 0.8047\n",
      "Epoch 33/100\n",
      "90/90 [==============================] - 0s 988us/step - loss: 0.4496 - accuracy: 0.8036\n",
      "Epoch 34/100\n",
      "90/90 [==============================] - 0s 946us/step - loss: 0.4487 - accuracy: 0.8036\n",
      "Epoch 35/100\n",
      "90/90 [==============================] - 0s 886us/step - loss: 0.4479 - accuracy: 0.8036\n",
      "Epoch 36/100\n",
      "90/90 [==============================] - 0s 953us/step - loss: 0.4475 - accuracy: 0.8025\n",
      "Epoch 37/100\n",
      "90/90 [==============================] - 0s 1ms/step - loss: 0.4466 - accuracy: 0.8025\n",
      "Epoch 38/100\n",
      "90/90 [==============================] - 0s 1000us/step - loss: 0.4462 - accuracy: 0.8047\n",
      "Epoch 39/100\n",
      "90/90 [==============================] - 0s 883us/step - loss: 0.4451 - accuracy: 0.8047\n",
      "Epoch 40/100\n",
      "90/90 [==============================] - 0s 917us/step - loss: 0.4447 - accuracy: 0.7991\n",
      "Epoch 41/100\n",
      "90/90 [==============================] - 0s 935us/step - loss: 0.4441 - accuracy: 0.8013\n",
      "Epoch 42/100\n",
      "90/90 [==============================] - 0s 1ms/step - loss: 0.4435 - accuracy: 0.8036\n",
      "Epoch 43/100\n",
      "90/90 [==============================] - 0s 1ms/step - loss: 0.4430 - accuracy: 0.8013\n",
      "Epoch 44/100\n",
      "90/90 [==============================] - 0s 891us/step - loss: 0.4426 - accuracy: 0.8013\n",
      "Epoch 45/100\n",
      "90/90 [==============================] - 0s 919us/step - loss: 0.4421 - accuracy: 0.8013\n",
      "Epoch 46/100\n",
      "90/90 [==============================] - 0s 931us/step - loss: 0.4417 - accuracy: 0.8013\n",
      "Epoch 47/100\n",
      "90/90 [==============================] - 0s 931us/step - loss: 0.4413 - accuracy: 0.8025\n",
      "Epoch 48/100\n",
      "90/90 [==============================] - 0s 868us/step - loss: 0.4410 - accuracy: 0.8013\n",
      "Epoch 49/100\n",
      "90/90 [==============================] - 0s 1ms/step - loss: 0.4408 - accuracy: 0.8013\n",
      "Epoch 50/100\n",
      "90/90 [==============================] - 0s 1ms/step - loss: 0.4400 - accuracy: 0.8036\n",
      "Epoch 51/100\n",
      "90/90 [==============================] - 0s 1ms/step - loss: 0.4395 - accuracy: 0.8013\n",
      "Epoch 52/100\n",
      "90/90 [==============================] - 0s 960us/step - loss: 0.4390 - accuracy: 0.8025\n",
      "Epoch 53/100\n",
      "90/90 [==============================] - 0s 922us/step - loss: 0.4390 - accuracy: 0.8013\n",
      "Epoch 54/100\n",
      "90/90 [==============================] - 0s 946us/step - loss: 0.4388 - accuracy: 0.8002\n",
      "Epoch 55/100\n",
      "90/90 [==============================] - 0s 857us/step - loss: 0.4386 - accuracy: 0.8025\n",
      "Epoch 56/100\n",
      "90/90 [==============================] - 0s 909us/step - loss: 0.4382 - accuracy: 0.8013\n",
      "Epoch 57/100\n",
      "90/90 [==============================] - 0s 910us/step - loss: 0.4379 - accuracy: 0.8036\n",
      "Epoch 58/100\n",
      "90/90 [==============================] - 0s 941us/step - loss: 0.4380 - accuracy: 0.8025\n",
      "Epoch 59/100\n",
      "90/90 [==============================] - 0s 959us/step - loss: 0.4373 - accuracy: 0.8002\n",
      "Epoch 60/100\n",
      "90/90 [==============================] - 0s 924us/step - loss: 0.4372 - accuracy: 0.8025\n",
      "Epoch 61/100\n",
      "90/90 [==============================] - 0s 848us/step - loss: 0.4369 - accuracy: 0.8025\n",
      "Epoch 62/100\n",
      "90/90 [==============================] - 0s 902us/step - loss: 0.4370 - accuracy: 0.8036\n",
      "Epoch 63/100\n",
      "90/90 [==============================] - 0s 892us/step - loss: 0.4369 - accuracy: 0.8058\n",
      "Epoch 64/100\n",
      "90/90 [==============================] - 0s 847us/step - loss: 0.4366 - accuracy: 0.8036\n",
      "Epoch 65/100\n",
      "90/90 [==============================] - 0s 934us/step - loss: 0.4363 - accuracy: 0.8036\n",
      "Epoch 66/100\n",
      "90/90 [==============================] - 0s 887us/step - loss: 0.4363 - accuracy: 0.8025\n",
      "Epoch 67/100\n",
      "90/90 [==============================] - 0s 887us/step - loss: 0.4360 - accuracy: 0.8047\n",
      "Epoch 68/100\n",
      "90/90 [==============================] - 0s 871us/step - loss: 0.4360 - accuracy: 0.8025\n",
      "Epoch 69/100\n",
      "90/90 [==============================] - 0s 890us/step - loss: 0.4358 - accuracy: 0.8025\n",
      "Epoch 70/100\n",
      "90/90 [==============================] - 0s 898us/step - loss: 0.4357 - accuracy: 0.8047\n",
      "Epoch 71/100\n",
      "90/90 [==============================] - 0s 924us/step - loss: 0.4359 - accuracy: 0.8036\n",
      "Epoch 72/100\n",
      "90/90 [==============================] - 0s 956us/step - loss: 0.4355 - accuracy: 0.8047\n",
      "Epoch 73/100\n",
      "90/90 [==============================] - 0s 950us/step - loss: 0.4351 - accuracy: 0.8036\n",
      "Epoch 74/100\n",
      "90/90 [==============================] - 0s 885us/step - loss: 0.4349 - accuracy: 0.8013\n",
      "Epoch 75/100\n",
      "90/90 [==============================] - 0s 902us/step - loss: 0.4349 - accuracy: 0.8013\n",
      "Epoch 76/100\n",
      "90/90 [==============================] - 0s 907us/step - loss: 0.4349 - accuracy: 0.8013\n",
      "Epoch 77/100\n",
      "90/90 [==============================] - 0s 907us/step - loss: 0.4346 - accuracy: 0.8025\n",
      "Epoch 78/100\n",
      "90/90 [==============================] - ETA: 0s - loss: 0.4272 - accuracy: 0.81 - 0s 899us/step - loss: 0.4346 - accuracy: 0.8025\n",
      "Epoch 79/100\n",
      "90/90 [==============================] - 0s 893us/step - loss: 0.4346 - accuracy: 0.8013\n",
      "Epoch 80/100\n",
      "90/90 [==============================] - 0s 863us/step - loss: 0.4344 - accuracy: 0.8036\n",
      "Epoch 81/100\n"
     ]
    },
    {
     "name": "stdout",
     "output_type": "stream",
     "text": [
      "90/90 [==============================] - 0s 913us/step - loss: 0.4341 - accuracy: 0.8036\n",
      "Epoch 82/100\n",
      "90/90 [==============================] - 0s 888us/step - loss: 0.4338 - accuracy: 0.8025\n",
      "Epoch 83/100\n",
      "90/90 [==============================] - 0s 872us/step - loss: 0.4339 - accuracy: 0.8013\n",
      "Epoch 84/100\n",
      "90/90 [==============================] - 0s 862us/step - loss: 0.4339 - accuracy: 0.8013\n",
      "Epoch 85/100\n",
      "90/90 [==============================] - 0s 864us/step - loss: 0.4336 - accuracy: 0.8025\n",
      "Epoch 86/100\n",
      "90/90 [==============================] - 0s 860us/step - loss: 0.4342 - accuracy: 0.8047\n",
      "Epoch 87/100\n",
      "90/90 [==============================] - 0s 868us/step - loss: 0.4339 - accuracy: 0.8013\n",
      "Epoch 88/100\n",
      "90/90 [==============================] - 0s 870us/step - loss: 0.4342 - accuracy: 0.8070\n",
      "Epoch 89/100\n",
      "90/90 [==============================] - 0s 870us/step - loss: 0.4337 - accuracy: 0.8013\n",
      "Epoch 90/100\n",
      "90/90 [==============================] - 0s 852us/step - loss: 0.4332 - accuracy: 0.8058\n",
      "Epoch 91/100\n",
      "90/90 [==============================] - 0s 855us/step - loss: 0.4332 - accuracy: 0.8036\n",
      "Epoch 92/100\n",
      "90/90 [==============================] - 0s 860us/step - loss: 0.4330 - accuracy: 0.8036\n",
      "Epoch 93/100\n",
      "90/90 [==============================] - 0s 870us/step - loss: 0.4332 - accuracy: 0.8036\n",
      "Epoch 94/100\n",
      "90/90 [==============================] - 0s 861us/step - loss: 0.4333 - accuracy: 0.8047\n",
      "Epoch 95/100\n",
      "90/90 [==============================] - 0s 863us/step - loss: 0.4329 - accuracy: 0.8025\n",
      "Epoch 96/100\n",
      "90/90 [==============================] - 0s 851us/step - loss: 0.4327 - accuracy: 0.8047\n",
      "Epoch 97/100\n",
      "90/90 [==============================] - 0s 844us/step - loss: 0.4328 - accuracy: 0.8025\n",
      "Epoch 98/100\n",
      "90/90 [==============================] - 0s 864us/step - loss: 0.4326 - accuracy: 0.8058\n",
      "Epoch 99/100\n",
      "90/90 [==============================] - 0s 854us/step - loss: 0.4329 - accuracy: 0.8036\n",
      "Epoch 100/100\n",
      "90/90 [==============================] - 0s 859us/step - loss: 0.4328 - accuracy: 0.8036\n"
     ]
    },
    {
     "data": {
      "text/plain": [
       "<tensorflow.python.keras.callbacks.History at 0x14a70151e08>"
      ]
     },
     "execution_count": 33,
     "metadata": {},
     "output_type": "execute_result"
    }
   ],
   "source": [
    "classifier.fit(X_train, y_train, batch_size = 10, epochs = 100)"
   ]
  },
  {
   "cell_type": "code",
   "execution_count": 34,
   "metadata": {
    "ExecuteTime": {
     "end_time": "2020-09-10T13:10:43.898391Z",
     "start_time": "2020-09-10T13:10:43.761190Z"
    }
   },
   "outputs": [],
   "source": [
    "#getting predictions of test data\n",
    "prediction = classifier.predict(X_test).tolist()\n",
    "# list to series\n",
    "se = pd.Series(prediction)\n",
    "# creating new column of predictions in data_check dataframe\n",
    "data_check['check'] = se\n",
    "data_check['check'] = data_check['check'].str.get(0)"
   ]
  },
  {
   "cell_type": "code",
   "execution_count": 36,
   "metadata": {
    "ExecuteTime": {
     "end_time": "2020-09-10T13:12:03.138037Z",
     "start_time": "2020-09-10T13:12:03.132058Z"
    }
   },
   "outputs": [],
   "source": [
    "series = []\n",
    "for val in data_check.check:\n",
    "    if val >= 0.5:\n",
    "        series.append(1)\n",
    "    else:\n",
    "        series.append(0)\n",
    "data_check['final'] = series"
   ]
  },
  {
   "cell_type": "code",
   "execution_count": 37,
   "metadata": {
    "ExecuteTime": {
     "end_time": "2020-09-10T13:12:55.209710Z",
     "start_time": "2020-09-10T13:12:55.194753Z"
    }
   },
   "outputs": [],
   "source": [
    "match = 0\n",
    "nomatch = 0\n",
    "for val in data_check.values:\n",
    "    if val[1] == val[3]:\n",
    "        match = match +1\n",
    "    else:\n",
    "        nomatch = nomatch +1"
   ]
  },
  {
   "cell_type": "code",
   "execution_count": 38,
   "metadata": {
    "ExecuteTime": {
     "end_time": "2020-09-10T13:17:47.114695Z",
     "start_time": "2020-09-10T13:17:47.107717Z"
    },
    "scrolled": true
   },
   "outputs": [
    {
     "name": "stdout",
     "output_type": "stream",
     "text": [
      "391\n",
      "27\n"
     ]
    }
   ],
   "source": [
    "print(match)\n",
    "print(nomatch)"
   ]
  },
  {
   "cell_type": "code",
   "execution_count": 41,
   "metadata": {
    "ExecuteTime": {
     "end_time": "2020-09-10T13:18:56.669938Z",
     "start_time": "2020-09-10T13:18:56.645599Z"
    }
   },
   "outputs": [
    {
     "data": {
      "text/html": [
       "<div>\n",
       "<style scoped>\n",
       "    .dataframe tbody tr th:only-of-type {\n",
       "        vertical-align: middle;\n",
       "    }\n",
       "\n",
       "    .dataframe tbody tr th {\n",
       "        vertical-align: top;\n",
       "    }\n",
       "\n",
       "    .dataframe thead th {\n",
       "        text-align: right;\n",
       "    }\n",
       "</style>\n",
       "<table border=\"1\" class=\"dataframe\">\n",
       "  <thead>\n",
       "    <tr style=\"text-align: right;\">\n",
       "      <th></th>\n",
       "      <th>PassengerId</th>\n",
       "      <th>Survived</th>\n",
       "      <th>check</th>\n",
       "      <th>final</th>\n",
       "    </tr>\n",
       "  </thead>\n",
       "  <tbody>\n",
       "    <tr>\n",
       "      <th>0</th>\n",
       "      <td>892</td>\n",
       "      <td>0</td>\n",
       "      <td>0.139458</td>\n",
       "      <td>0</td>\n",
       "    </tr>\n",
       "    <tr>\n",
       "      <th>1</th>\n",
       "      <td>893</td>\n",
       "      <td>1</td>\n",
       "      <td>0.493786</td>\n",
       "      <td>0</td>\n",
       "    </tr>\n",
       "    <tr>\n",
       "      <th>2</th>\n",
       "      <td>894</td>\n",
       "      <td>0</td>\n",
       "      <td>0.147982</td>\n",
       "      <td>0</td>\n",
       "    </tr>\n",
       "    <tr>\n",
       "      <th>3</th>\n",
       "      <td>895</td>\n",
       "      <td>0</td>\n",
       "      <td>0.139506</td>\n",
       "      <td>0</td>\n",
       "    </tr>\n",
       "    <tr>\n",
       "      <th>4</th>\n",
       "      <td>896</td>\n",
       "      <td>1</td>\n",
       "      <td>0.423961</td>\n",
       "      <td>0</td>\n",
       "    </tr>\n",
       "    <tr>\n",
       "      <th>...</th>\n",
       "      <td>...</td>\n",
       "      <td>...</td>\n",
       "      <td>...</td>\n",
       "      <td>...</td>\n",
       "    </tr>\n",
       "    <tr>\n",
       "      <th>95</th>\n",
       "      <td>987</td>\n",
       "      <td>0</td>\n",
       "      <td>0.140984</td>\n",
       "      <td>0</td>\n",
       "    </tr>\n",
       "    <tr>\n",
       "      <th>96</th>\n",
       "      <td>988</td>\n",
       "      <td>1</td>\n",
       "      <td>0.979389</td>\n",
       "      <td>1</td>\n",
       "    </tr>\n",
       "    <tr>\n",
       "      <th>97</th>\n",
       "      <td>989</td>\n",
       "      <td>0</td>\n",
       "      <td>0.141016</td>\n",
       "      <td>0</td>\n",
       "    </tr>\n",
       "    <tr>\n",
       "      <th>98</th>\n",
       "      <td>990</td>\n",
       "      <td>1</td>\n",
       "      <td>0.608196</td>\n",
       "      <td>1</td>\n",
       "    </tr>\n",
       "    <tr>\n",
       "      <th>99</th>\n",
       "      <td>991</td>\n",
       "      <td>0</td>\n",
       "      <td>0.141048</td>\n",
       "      <td>0</td>\n",
       "    </tr>\n",
       "  </tbody>\n",
       "</table>\n",
       "<p>100 rows × 4 columns</p>\n",
       "</div>"
      ],
      "text/plain": [
       "    PassengerId  Survived     check  final\n",
       "0           892         0  0.139458      0\n",
       "1           893         1  0.493786      0\n",
       "2           894         0  0.147982      0\n",
       "3           895         0  0.139506      0\n",
       "4           896         1  0.423961      0\n",
       "..          ...       ...       ...    ...\n",
       "95          987         0  0.140984      0\n",
       "96          988         1  0.979389      1\n",
       "97          989         0  0.141016      0\n",
       "98          990         1  0.608196      1\n",
       "99          991         0  0.141048      0\n",
       "\n",
       "[100 rows x 4 columns]"
      ]
     },
     "execution_count": 41,
     "metadata": {},
     "output_type": "execute_result"
    }
   ],
   "source": [
    "data_check.head(100)"
   ]
  }
 ],
 "metadata": {
  "kernelspec": {
   "display_name": "Python 3",
   "language": "python",
   "name": "python3"
  },
  "language_info": {
   "codemirror_mode": {
    "name": "ipython",
    "version": 3
   },
   "file_extension": ".py",
   "mimetype": "text/x-python",
   "name": "python",
   "nbconvert_exporter": "python",
   "pygments_lexer": "ipython3",
   "version": "3.7.7"
  }
 },
 "nbformat": 4,
 "nbformat_minor": 4
}
