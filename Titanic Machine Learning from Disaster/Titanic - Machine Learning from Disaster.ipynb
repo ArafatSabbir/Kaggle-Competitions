{
 "cells": [
  {
   "cell_type": "markdown",
   "metadata": {},
   "source": [
    "## Import library and datasets"
   ]
  },
  {
   "cell_type": "code",
   "execution_count": 35,
   "metadata": {
    "ExecuteTime": {
     "end_time": "2020-09-10T14:54:01.639967Z",
     "start_time": "2020-09-10T14:54:01.610050Z"
    }
   },
   "outputs": [],
   "source": [
    "# Importing libraries\n",
    "import pandas as pd    \n",
    "import numpy as np\n",
    "# Reading data to Dataframes\n",
    "    \n",
    "data_train = pd.read_csv('Datasets/train.csv')\n",
    "data_test = pd.read_csv('Datasets/test.csv')\n",
    "data_check = pd.read_csv('Datasets/test_result.csv')"
   ]
  },
  {
   "cell_type": "code",
   "execution_count": 36,
   "metadata": {
    "ExecuteTime": {
     "end_time": "2020-09-10T14:54:01.655923Z",
     "start_time": "2020-09-10T14:54:01.641001Z"
    }
   },
   "outputs": [],
   "source": [
    "#changing column name\n",
    "    \n",
    "data_train = data_train.rename(columns = {'Pclass' : 'TicketClass'})\n",
    "data_test = data_test.rename(columns = {'Pclass' : 'TicketClass'})"
   ]
  },
  {
   "cell_type": "code",
   "execution_count": 37,
   "metadata": {
    "ExecuteTime": {
     "end_time": "2020-09-10T14:54:01.671881Z",
     "start_time": "2020-09-10T14:54:01.657919Z"
    }
   },
   "outputs": [],
   "source": [
    "#Removing unused columns\n",
    "data_train = data_train.drop(['Name','Ticket','Fare','Cabin','Embarked','Age'],axis =1)\n",
    "data_test = data_test.drop(['Name','Age','Ticket','Fare','Cabin','Embarked'], axis =1)"
   ]
  },
  {
   "cell_type": "code",
   "execution_count": 38,
   "metadata": {
    "ExecuteTime": {
     "end_time": "2020-09-10T14:54:01.703838Z",
     "start_time": "2020-09-10T14:54:01.673879Z"
    }
   },
   "outputs": [
    {
     "data": {
      "text/html": [
       "<div>\n",
       "<style scoped>\n",
       "    .dataframe tbody tr th:only-of-type {\n",
       "        vertical-align: middle;\n",
       "    }\n",
       "\n",
       "    .dataframe tbody tr th {\n",
       "        vertical-align: top;\n",
       "    }\n",
       "\n",
       "    .dataframe thead th {\n",
       "        text-align: right;\n",
       "    }\n",
       "</style>\n",
       "<table border=\"1\" class=\"dataframe\">\n",
       "  <thead>\n",
       "    <tr style=\"text-align: right;\">\n",
       "      <th></th>\n",
       "      <th>PassengerId</th>\n",
       "      <th>TicketClass</th>\n",
       "      <th>Sex</th>\n",
       "      <th>SibSp</th>\n",
       "      <th>Parch</th>\n",
       "    </tr>\n",
       "  </thead>\n",
       "  <tbody>\n",
       "    <tr>\n",
       "      <th>0</th>\n",
       "      <td>892</td>\n",
       "      <td>3</td>\n",
       "      <td>male</td>\n",
       "      <td>0</td>\n",
       "      <td>0</td>\n",
       "    </tr>\n",
       "    <tr>\n",
       "      <th>1</th>\n",
       "      <td>893</td>\n",
       "      <td>3</td>\n",
       "      <td>female</td>\n",
       "      <td>1</td>\n",
       "      <td>0</td>\n",
       "    </tr>\n",
       "    <tr>\n",
       "      <th>2</th>\n",
       "      <td>894</td>\n",
       "      <td>2</td>\n",
       "      <td>male</td>\n",
       "      <td>0</td>\n",
       "      <td>0</td>\n",
       "    </tr>\n",
       "    <tr>\n",
       "      <th>3</th>\n",
       "      <td>895</td>\n",
       "      <td>3</td>\n",
       "      <td>male</td>\n",
       "      <td>0</td>\n",
       "      <td>0</td>\n",
       "    </tr>\n",
       "    <tr>\n",
       "      <th>4</th>\n",
       "      <td>896</td>\n",
       "      <td>3</td>\n",
       "      <td>female</td>\n",
       "      <td>1</td>\n",
       "      <td>1</td>\n",
       "    </tr>\n",
       "  </tbody>\n",
       "</table>\n",
       "</div>"
      ],
      "text/plain": [
       "   PassengerId  TicketClass     Sex  SibSp  Parch\n",
       "0          892            3    male      0      0\n",
       "1          893            3  female      1      0\n",
       "2          894            2    male      0      0\n",
       "3          895            3    male      0      0\n",
       "4          896            3  female      1      1"
      ]
     },
     "execution_count": 38,
     "metadata": {},
     "output_type": "execute_result"
    }
   ],
   "source": [
    "data_test.head()"
   ]
  },
  {
   "cell_type": "code",
   "execution_count": 39,
   "metadata": {
    "ExecuteTime": {
     "end_time": "2020-09-10T14:54:01.719756Z",
     "start_time": "2020-09-10T14:54:01.704793Z"
    }
   },
   "outputs": [],
   "source": [
    "#Importing LabelEncoder from Sklearn\n",
    "from sklearn.preprocessing import LabelEncoder\n",
    "label_encoder_sex = LabelEncoder()"
   ]
  },
  {
   "cell_type": "code",
   "execution_count": 47,
   "metadata": {
    "ExecuteTime": {
     "end_time": "2020-09-10T14:54:49.293030Z",
     "start_time": "2020-09-10T14:54:49.286033Z"
    }
   },
   "outputs": [],
   "source": [
    "# Transforming sex column values using label Encoder\n",
    "data_train.iloc[:,3]  = label_encoder_sex.fit_transform(data_train.iloc[:,3])\n",
    "data_test.iloc[:,1] = label_encoder_sex.fit_transform(data_test.iloc[:,1])"
   ]
  },
  {
   "cell_type": "code",
   "execution_count": 48,
   "metadata": {
    "ExecuteTime": {
     "end_time": "2020-09-10T14:54:51.905328Z",
     "start_time": "2020-09-10T14:54:51.893405Z"
    }
   },
   "outputs": [],
   "source": [
    "data_train = data_train[['PassengerId','Sex','SibSp','Parch','TicketClass','Survived']]\n",
    "data_test = data_test[['PassengerId','Sex','SibSp','Parch','TicketClass']]"
   ]
  },
  {
   "cell_type": "code",
   "execution_count": 50,
   "metadata": {
    "ExecuteTime": {
     "end_time": "2020-09-10T14:55:03.290778Z",
     "start_time": "2020-09-10T14:55:03.272794Z"
    }
   },
   "outputs": [
    {
     "data": {
      "text/html": [
       "<div>\n",
       "<style scoped>\n",
       "    .dataframe tbody tr th:only-of-type {\n",
       "        vertical-align: middle;\n",
       "    }\n",
       "\n",
       "    .dataframe tbody tr th {\n",
       "        vertical-align: top;\n",
       "    }\n",
       "\n",
       "    .dataframe thead th {\n",
       "        text-align: right;\n",
       "    }\n",
       "</style>\n",
       "<table border=\"1\" class=\"dataframe\">\n",
       "  <thead>\n",
       "    <tr style=\"text-align: right;\">\n",
       "      <th></th>\n",
       "      <th>PassengerId</th>\n",
       "      <th>Sex</th>\n",
       "      <th>SibSp</th>\n",
       "      <th>Parch</th>\n",
       "      <th>TicketClass</th>\n",
       "    </tr>\n",
       "  </thead>\n",
       "  <tbody>\n",
       "    <tr>\n",
       "      <th>0</th>\n",
       "      <td>892</td>\n",
       "      <td>1</td>\n",
       "      <td>0</td>\n",
       "      <td>0</td>\n",
       "      <td>2</td>\n",
       "    </tr>\n",
       "    <tr>\n",
       "      <th>1</th>\n",
       "      <td>893</td>\n",
       "      <td>0</td>\n",
       "      <td>1</td>\n",
       "      <td>0</td>\n",
       "      <td>2</td>\n",
       "    </tr>\n",
       "    <tr>\n",
       "      <th>2</th>\n",
       "      <td>894</td>\n",
       "      <td>1</td>\n",
       "      <td>0</td>\n",
       "      <td>0</td>\n",
       "      <td>1</td>\n",
       "    </tr>\n",
       "    <tr>\n",
       "      <th>3</th>\n",
       "      <td>895</td>\n",
       "      <td>1</td>\n",
       "      <td>0</td>\n",
       "      <td>0</td>\n",
       "      <td>2</td>\n",
       "    </tr>\n",
       "    <tr>\n",
       "      <th>4</th>\n",
       "      <td>896</td>\n",
       "      <td>0</td>\n",
       "      <td>1</td>\n",
       "      <td>1</td>\n",
       "      <td>2</td>\n",
       "    </tr>\n",
       "  </tbody>\n",
       "</table>\n",
       "</div>"
      ],
      "text/plain": [
       "   PassengerId  Sex  SibSp  Parch  TicketClass\n",
       "0          892    1      0      0            2\n",
       "1          893    0      1      0            2\n",
       "2          894    1      0      0            1\n",
       "3          895    1      0      0            2\n",
       "4          896    0      1      1            2"
      ]
     },
     "execution_count": 50,
     "metadata": {},
     "output_type": "execute_result"
    }
   ],
   "source": [
    "data_train.head()\n",
    "data_test.head()"
   ]
  },
  {
   "cell_type": "code",
   "execution_count": 51,
   "metadata": {
    "ExecuteTime": {
     "end_time": "2020-09-10T14:55:03.306702Z",
     "start_time": "2020-09-10T14:55:03.292739Z"
    }
   },
   "outputs": [],
   "source": [
    "X_train = data_train.iloc[:,0:5]\n",
    "y_train = data_train.iloc[:,5]  "
   ]
  },
  {
   "cell_type": "code",
   "execution_count": 52,
   "metadata": {
    "ExecuteTime": {
     "end_time": "2020-09-10T14:55:03.337655Z",
     "start_time": "2020-09-10T14:55:03.308697Z"
    }
   },
   "outputs": [],
   "source": [
    "from sklearn.preprocessing import StandardScaler\n",
    "sc = StandardScaler()\n",
    "X_train = sc.fit_transform(X_train)\n",
    "X_test = sc.fit_transform(data_test)"
   ]
  },
  {
   "cell_type": "code",
   "execution_count": 53,
   "metadata": {
    "ExecuteTime": {
     "end_time": "2020-09-10T14:55:03.352582Z",
     "start_time": "2020-09-10T14:55:03.339647Z"
    }
   },
   "outputs": [],
   "source": [
    "import keras\n",
    "from keras.models import Sequential\n",
    "from keras.layers import Dense"
   ]
  },
  {
   "cell_type": "code",
   "execution_count": 54,
   "metadata": {
    "ExecuteTime": {
     "end_time": "2020-09-10T14:55:03.367297Z",
     "start_time": "2020-09-10T14:55:03.355570Z"
    }
   },
   "outputs": [],
   "source": [
    "classifier = Sequential()"
   ]
  },
  {
   "cell_type": "code",
   "execution_count": 55,
   "metadata": {
    "ExecuteTime": {
     "end_time": "2020-09-10T14:55:03.399216Z",
     "start_time": "2020-09-10T14:55:03.369293Z"
    }
   },
   "outputs": [],
   "source": [
    "#Input layer with 5 inputs neurons\n",
    "classifier.add(Dense(3,  activation = 'relu', input_dim = 5))\n",
    "#Hidden layer\n",
    "classifier.add(Dense(2,  activation = 'relu'))\n",
    "#output layer with 1 output neuron which will predict 1 or 0\n",
    "classifier.add(Dense(1, activation = 'sigmoid'))"
   ]
  },
  {
   "cell_type": "code",
   "execution_count": 56,
   "metadata": {
    "ExecuteTime": {
     "end_time": "2020-09-10T14:55:03.415172Z",
     "start_time": "2020-09-10T14:55:03.401208Z"
    }
   },
   "outputs": [],
   "source": [
    "classifier.compile(optimizer = 'adam', loss = 'binary_crossentropy', metrics = ['accuracy'])"
   ]
  },
  {
   "cell_type": "code",
   "execution_count": 57,
   "metadata": {
    "ExecuteTime": {
     "end_time": "2020-09-10T14:55:12.654544Z",
     "start_time": "2020-09-10T14:55:03.418162Z"
    }
   },
   "outputs": [
    {
     "name": "stdout",
     "output_type": "stream",
     "text": [
      "Epoch 1/100\n",
      "90/90 [==============================] - 0s 884us/step - loss: 0.6415 - accuracy: 0.6958\n",
      "Epoch 2/100\n",
      "90/90 [==============================] - 0s 875us/step - loss: 0.6197 - accuracy: 0.7093\n",
      "Epoch 3/100\n",
      "90/90 [==============================] - 0s 910us/step - loss: 0.5970 - accuracy: 0.7306\n",
      "Epoch 4/100\n",
      "90/90 [==============================] - 0s 886us/step - loss: 0.5732 - accuracy: 0.7666\n",
      "Epoch 5/100\n",
      "90/90 [==============================] - 0s 901us/step - loss: 0.5490 - accuracy: 0.7811\n",
      "Epoch 6/100\n",
      "90/90 [==============================] - 0s 895us/step - loss: 0.5292 - accuracy: 0.7845\n",
      "Epoch 7/100\n",
      "90/90 [==============================] - 0s 906us/step - loss: 0.5121 - accuracy: 0.7789\n",
      "Epoch 8/100\n",
      "90/90 [==============================] - 0s 898us/step - loss: 0.4972 - accuracy: 0.7924\n",
      "Epoch 9/100\n",
      "90/90 [==============================] - 0s 930us/step - loss: 0.4873 - accuracy: 0.7924\n",
      "Epoch 10/100\n",
      "90/90 [==============================] - 0s 867us/step - loss: 0.4806 - accuracy: 0.7969\n",
      "Epoch 11/100\n",
      "90/90 [==============================] - 0s 960us/step - loss: 0.4751 - accuracy: 0.7991\n",
      "Epoch 12/100\n",
      "90/90 [==============================] - 0s 896us/step - loss: 0.4707 - accuracy: 0.7946\n",
      "Epoch 13/100\n",
      "90/90 [==============================] - 0s 900us/step - loss: 0.4672 - accuracy: 0.8002\n",
      "Epoch 14/100\n",
      "90/90 [==============================] - 0s 927us/step - loss: 0.4654 - accuracy: 0.7935\n",
      "Epoch 15/100\n",
      "90/90 [==============================] - 0s 888us/step - loss: 0.4635 - accuracy: 0.7946\n",
      "Epoch 16/100\n",
      "90/90 [==============================] - 0s 867us/step - loss: 0.4616 - accuracy: 0.7991\n",
      "Epoch 17/100\n",
      "90/90 [==============================] - 0s 902us/step - loss: 0.4599 - accuracy: 0.7969\n",
      "Epoch 18/100\n",
      "90/90 [==============================] - 0s 885us/step - loss: 0.4588 - accuracy: 0.7935\n",
      "Epoch 19/100\n",
      "90/90 [==============================] - 0s 926us/step - loss: 0.4576 - accuracy: 0.8002\n",
      "Epoch 20/100\n",
      "90/90 [==============================] - 0s 884us/step - loss: 0.4565 - accuracy: 0.8002\n",
      "Epoch 21/100\n",
      "90/90 [==============================] - 0s 872us/step - loss: 0.4552 - accuracy: 0.7991\n",
      "Epoch 22/100\n",
      "90/90 [==============================] - 0s 909us/step - loss: 0.4548 - accuracy: 0.7980\n",
      "Epoch 23/100\n",
      "90/90 [==============================] - 0s 910us/step - loss: 0.4539 - accuracy: 0.7980\n",
      "Epoch 24/100\n",
      "90/90 [==============================] - 0s 928us/step - loss: 0.4529 - accuracy: 0.7980\n",
      "Epoch 25/100\n",
      "90/90 [==============================] - 0s 885us/step - loss: 0.4522 - accuracy: 0.7969\n",
      "Epoch 26/100\n",
      "90/90 [==============================] - 0s 1ms/step - loss: 0.4520 - accuracy: 0.7957\n",
      "Epoch 27/100\n",
      "90/90 [==============================] - 0s 888us/step - loss: 0.4511 - accuracy: 0.7969\n",
      "Epoch 28/100\n",
      "90/90 [==============================] - 0s 1ms/step - loss: 0.4498 - accuracy: 0.7969\n",
      "Epoch 29/100\n",
      "90/90 [==============================] - 0s 1ms/step - loss: 0.4491 - accuracy: 0.7991\n",
      "Epoch 30/100\n",
      "90/90 [==============================] - 0s 1ms/step - loss: 0.4489 - accuracy: 0.8025\n",
      "Epoch 31/100\n",
      "90/90 [==============================] - 0s 1ms/step - loss: 0.4480 - accuracy: 0.7991\n",
      "Epoch 32/100\n",
      "90/90 [==============================] - 0s 1ms/step - loss: 0.4488 - accuracy: 0.8036\n",
      "Epoch 33/100\n",
      "90/90 [==============================] - 0s 1ms/step - loss: 0.4473 - accuracy: 0.8036\n",
      "Epoch 34/100\n",
      "90/90 [==============================] - 0s 1ms/step - loss: 0.4471 - accuracy: 0.7991\n",
      "Epoch 35/100\n",
      "90/90 [==============================] - 0s 876us/step - loss: 0.4464 - accuracy: 0.8002\n",
      "Epoch 36/100\n",
      "90/90 [==============================] - 0s 903us/step - loss: 0.4459 - accuracy: 0.8002\n",
      "Epoch 37/100\n",
      "90/90 [==============================] - 0s 852us/step - loss: 0.4454 - accuracy: 0.7991\n",
      "Epoch 38/100\n",
      "90/90 [==============================] - 0s 920us/step - loss: 0.4451 - accuracy: 0.7991\n",
      "Epoch 39/100\n",
      "90/90 [==============================] - 0s 950us/step - loss: 0.4448 - accuracy: 0.8025\n",
      "Epoch 40/100\n",
      "90/90 [==============================] - 0s 1ms/step - loss: 0.4445 - accuracy: 0.7980\n",
      "Epoch 41/100\n",
      "90/90 [==============================] - 0s 1ms/step - loss: 0.4443 - accuracy: 0.7991\n",
      "Epoch 42/100\n",
      "90/90 [==============================] - 0s 911us/step - loss: 0.4435 - accuracy: 0.7980\n",
      "Epoch 43/100\n",
      "90/90 [==============================] - 0s 879us/step - loss: 0.4430 - accuracy: 0.8013\n",
      "Epoch 44/100\n",
      "90/90 [==============================] - 0s 928us/step - loss: 0.4427 - accuracy: 0.7969\n",
      "Epoch 45/100\n",
      "90/90 [==============================] - 0s 873us/step - loss: 0.4429 - accuracy: 0.7980\n",
      "Epoch 46/100\n",
      "90/90 [==============================] - 0s 945us/step - loss: 0.4421 - accuracy: 0.8025\n",
      "Epoch 47/100\n",
      "90/90 [==============================] - 0s 912us/step - loss: 0.4421 - accuracy: 0.8002\n",
      "Epoch 48/100\n",
      "90/90 [==============================] - 0s 910us/step - loss: 0.4415 - accuracy: 0.8002\n",
      "Epoch 49/100\n",
      "90/90 [==============================] - 0s 904us/step - loss: 0.4407 - accuracy: 0.8002\n",
      "Epoch 50/100\n",
      "90/90 [==============================] - 0s 920us/step - loss: 0.4407 - accuracy: 0.8036\n",
      "Epoch 51/100\n",
      "90/90 [==============================] - 0s 1ms/step - loss: 0.4401 - accuracy: 0.8013\n",
      "Epoch 52/100\n",
      "90/90 [==============================] - 0s 1ms/step - loss: 0.4400 - accuracy: 0.7991\n",
      "Epoch 53/100\n",
      "90/90 [==============================] - 0s 1ms/step - loss: 0.4392 - accuracy: 0.8058\n",
      "Epoch 54/100\n",
      "90/90 [==============================] - 0s 1ms/step - loss: 0.4387 - accuracy: 0.7991\n",
      "Epoch 55/100\n",
      "90/90 [==============================] - 0s 1ms/step - loss: 0.4386 - accuracy: 0.8013\n",
      "Epoch 56/100\n",
      "90/90 [==============================] - 0s 1ms/step - loss: 0.4384 - accuracy: 0.8036\n",
      "Epoch 57/100\n",
      "90/90 [==============================] - 0s 975us/step - loss: 0.4377 - accuracy: 0.8070\n",
      "Epoch 58/100\n",
      "90/90 [==============================] - 0s 1ms/step - loss: 0.4378 - accuracy: 0.8013\n",
      "Epoch 59/100\n",
      "90/90 [==============================] - 0s 1ms/step - loss: 0.4372 - accuracy: 0.8036\n",
      "Epoch 60/100\n",
      "90/90 [==============================] - 0s 1ms/step - loss: 0.4366 - accuracy: 0.8058\n",
      "Epoch 61/100\n",
      "90/90 [==============================] - 0s 1ms/step - loss: 0.4369 - accuracy: 0.8092\n",
      "Epoch 62/100\n",
      "90/90 [==============================] - 0s 847us/step - loss: 0.4365 - accuracy: 0.8114\n",
      "Epoch 63/100\n",
      "90/90 [==============================] - 0s 1ms/step - loss: 0.4357 - accuracy: 0.8114\n",
      "Epoch 64/100\n",
      "90/90 [==============================] - 0s 1ms/step - loss: 0.4353 - accuracy: 0.8058\n",
      "Epoch 65/100\n",
      "90/90 [==============================] - 0s 1ms/step - loss: 0.4355 - accuracy: 0.8081\n",
      "Epoch 66/100\n",
      "90/90 [==============================] - 0s 1ms/step - loss: 0.4351 - accuracy: 0.8070\n",
      "Epoch 67/100\n",
      "90/90 [==============================] - 0s 951us/step - loss: 0.4347 - accuracy: 0.8081\n",
      "Epoch 68/100\n",
      "90/90 [==============================] - 0s 892us/step - loss: 0.4343 - accuracy: 0.8081\n",
      "Epoch 69/100\n",
      "90/90 [==============================] - 0s 922us/step - loss: 0.4341 - accuracy: 0.8070\n",
      "Epoch 70/100\n",
      "90/90 [==============================] - 0s 1ms/step - loss: 0.4338 - accuracy: 0.8092\n",
      "Epoch 71/100\n",
      "90/90 [==============================] - 0s 1ms/step - loss: 0.4341 - accuracy: 0.8081\n",
      "Epoch 72/100\n",
      "90/90 [==============================] - 0s 934us/step - loss: 0.4337 - accuracy: 0.8092\n",
      "Epoch 73/100\n",
      "90/90 [==============================] - 0s 904us/step - loss: 0.4333 - accuracy: 0.8025\n",
      "Epoch 74/100\n",
      "90/90 [==============================] - 0s 893us/step - loss: 0.4329 - accuracy: 0.8047\n",
      "Epoch 75/100\n",
      "90/90 [==============================] - 0s 895us/step - loss: 0.4334 - accuracy: 0.8036\n",
      "Epoch 76/100\n",
      "90/90 [==============================] - 0s 897us/step - loss: 0.4328 - accuracy: 0.8070\n",
      "Epoch 77/100\n",
      "90/90 [==============================] - 0s 911us/step - loss: 0.4329 - accuracy: 0.8058\n",
      "Epoch 78/100\n",
      "90/90 [==============================] - 0s 899us/step - loss: 0.4327 - accuracy: 0.8025\n",
      "Epoch 79/100\n",
      "90/90 [==============================] - 0s 1ms/step - loss: 0.4327 - accuracy: 0.8002\n",
      "Epoch 80/100\n",
      "90/90 [==============================] - 0s 1ms/step - loss: 0.4321 - accuracy: 0.7991\n",
      "Epoch 81/100\n",
      "90/90 [==============================] - 0s 959us/step - loss: 0.4316 - accuracy: 0.8025\n"
     ]
    },
    {
     "name": "stdout",
     "output_type": "stream",
     "text": [
      "Epoch 82/100\n",
      "90/90 [==============================] - 0s 883us/step - loss: 0.4316 - accuracy: 0.8002\n",
      "Epoch 83/100\n",
      "90/90 [==============================] - 0s 895us/step - loss: 0.4317 - accuracy: 0.8002\n",
      "Epoch 84/100\n",
      "90/90 [==============================] - 0s 862us/step - loss: 0.4314 - accuracy: 0.8025\n",
      "Epoch 85/100\n",
      "90/90 [==============================] - 0s 878us/step - loss: 0.4313 - accuracy: 0.8070\n",
      "Epoch 86/100\n",
      "90/90 [==============================] - 0s 863us/step - loss: 0.4316 - accuracy: 0.8025\n",
      "Epoch 87/100\n",
      "90/90 [==============================] - 0s 970us/step - loss: 0.4308 - accuracy: 0.8047\n",
      "Epoch 88/100\n",
      "90/90 [==============================] - 0s 969us/step - loss: 0.4307 - accuracy: 0.8036\n",
      "Epoch 89/100\n",
      "90/90 [==============================] - 0s 958us/step - loss: 0.4307 - accuracy: 0.8070\n",
      "Epoch 90/100\n",
      "90/90 [==============================] - ETA: 0s - loss: 0.4377 - accuracy: 0.79 - 0s 888us/step - loss: 0.4304 - accuracy: 0.8025\n",
      "Epoch 91/100\n",
      "90/90 [==============================] - 0s 853us/step - loss: 0.4310 - accuracy: 0.8036\n",
      "Epoch 92/100\n",
      "90/90 [==============================] - 0s 869us/step - loss: 0.4302 - accuracy: 0.8058\n",
      "Epoch 93/100\n",
      "90/90 [==============================] - 0s 858us/step - loss: 0.4299 - accuracy: 0.8058\n",
      "Epoch 94/100\n",
      "90/90 [==============================] - 0s 912us/step - loss: 0.4298 - accuracy: 0.8058\n",
      "Epoch 95/100\n",
      "90/90 [==============================] - 0s 979us/step - loss: 0.4295 - accuracy: 0.8025\n",
      "Epoch 96/100\n",
      "90/90 [==============================] - 0s 984us/step - loss: 0.4297 - accuracy: 0.8025\n",
      "Epoch 97/100\n",
      "90/90 [==============================] - 0s 919us/step - loss: 0.4293 - accuracy: 0.8036\n",
      "Epoch 98/100\n",
      "90/90 [==============================] - 0s 854us/step - loss: 0.4290 - accuracy: 0.8058\n",
      "Epoch 99/100\n",
      "90/90 [==============================] - 0s 844us/step - loss: 0.4296 - accuracy: 0.8058\n",
      "Epoch 100/100\n",
      "90/90 [==============================] - 0s 875us/step - loss: 0.4293 - accuracy: 0.8013\n"
     ]
    },
    {
     "data": {
      "text/plain": [
       "<tensorflow.python.keras.callbacks.History at 0x1b6a95896c8>"
      ]
     },
     "execution_count": 57,
     "metadata": {},
     "output_type": "execute_result"
    }
   ],
   "source": [
    "classifier.fit(X_train, y_train, batch_size = 10, epochs = 100)"
   ]
  },
  {
   "cell_type": "code",
   "execution_count": 58,
   "metadata": {
    "ExecuteTime": {
     "end_time": "2020-09-10T14:55:12.732929Z",
     "start_time": "2020-09-10T14:55:12.656459Z"
    }
   },
   "outputs": [],
   "source": [
    "#getting predictions of test data\n",
    "prediction = classifier.predict(X_test).tolist()\n",
    "# list to series\n",
    "se = pd.Series(prediction)\n",
    "# creating new column of predictions in data_check dataframe\n",
    "data_check['check'] = se\n",
    "data_check['check'] = data_check['check'].str.get(0)"
   ]
  },
  {
   "cell_type": "code",
   "execution_count": 59,
   "metadata": {
    "ExecuteTime": {
     "end_time": "2020-09-10T14:55:12.748154Z",
     "start_time": "2020-09-10T14:55:12.734151Z"
    }
   },
   "outputs": [],
   "source": [
    "series = []\n",
    "for val in data_check.check:\n",
    "    if val >= 0.5:\n",
    "        series.append(1)\n",
    "    else:\n",
    "        series.append(0)\n",
    "data_check['final'] = series"
   ]
  },
  {
   "cell_type": "code",
   "execution_count": 60,
   "metadata": {
    "ExecuteTime": {
     "end_time": "2020-09-10T14:55:12.763640Z",
     "start_time": "2020-09-10T14:55:12.750113Z"
    }
   },
   "outputs": [],
   "source": [
    "match = 0\n",
    "nomatch = 0\n",
    "for val in data_check.values:\n",
    "    if val[1] == val[3]:\n",
    "        match = match +1\n",
    "    else:\n",
    "        nomatch = nomatch +1"
   ]
  },
  {
   "cell_type": "code",
   "execution_count": 61,
   "metadata": {
    "ExecuteTime": {
     "end_time": "2020-09-10T14:55:12.779597Z",
     "start_time": "2020-09-10T14:55:12.765598Z"
    },
    "scrolled": true
   },
   "outputs": [
    {
     "name": "stdout",
     "output_type": "stream",
     "text": [
      "387\n",
      "31\n"
     ]
    }
   ],
   "source": [
    "print(match)\n",
    "print(nomatch)"
   ]
  },
  {
   "cell_type": "code",
   "execution_count": 62,
   "metadata": {
    "ExecuteTime": {
     "end_time": "2020-09-10T14:55:12.810707Z",
     "start_time": "2020-09-10T14:55:12.781562Z"
    }
   },
   "outputs": [
    {
     "data": {
      "text/html": [
       "<div>\n",
       "<style scoped>\n",
       "    .dataframe tbody tr th:only-of-type {\n",
       "        vertical-align: middle;\n",
       "    }\n",
       "\n",
       "    .dataframe tbody tr th {\n",
       "        vertical-align: top;\n",
       "    }\n",
       "\n",
       "    .dataframe thead th {\n",
       "        text-align: right;\n",
       "    }\n",
       "</style>\n",
       "<table border=\"1\" class=\"dataframe\">\n",
       "  <thead>\n",
       "    <tr style=\"text-align: right;\">\n",
       "      <th></th>\n",
       "      <th>PassengerId</th>\n",
       "      <th>Survived</th>\n",
       "      <th>check</th>\n",
       "      <th>final</th>\n",
       "    </tr>\n",
       "  </thead>\n",
       "  <tbody>\n",
       "    <tr>\n",
       "      <th>0</th>\n",
       "      <td>892</td>\n",
       "      <td>0</td>\n",
       "      <td>0.140799</td>\n",
       "      <td>0</td>\n",
       "    </tr>\n",
       "    <tr>\n",
       "      <th>1</th>\n",
       "      <td>893</td>\n",
       "      <td>1</td>\n",
       "      <td>0.560904</td>\n",
       "      <td>1</td>\n",
       "    </tr>\n",
       "    <tr>\n",
       "      <th>2</th>\n",
       "      <td>894</td>\n",
       "      <td>0</td>\n",
       "      <td>0.115947</td>\n",
       "      <td>0</td>\n",
       "    </tr>\n",
       "    <tr>\n",
       "      <th>3</th>\n",
       "      <td>895</td>\n",
       "      <td>0</td>\n",
       "      <td>0.140603</td>\n",
       "      <td>0</td>\n",
       "    </tr>\n",
       "    <tr>\n",
       "      <th>4</th>\n",
       "      <td>896</td>\n",
       "      <td>1</td>\n",
       "      <td>0.508709</td>\n",
       "      <td>1</td>\n",
       "    </tr>\n",
       "    <tr>\n",
       "      <th>...</th>\n",
       "      <td>...</td>\n",
       "      <td>...</td>\n",
       "      <td>...</td>\n",
       "      <td>...</td>\n",
       "    </tr>\n",
       "    <tr>\n",
       "      <th>95</th>\n",
       "      <td>987</td>\n",
       "      <td>0</td>\n",
       "      <td>0.134717</td>\n",
       "      <td>0</td>\n",
       "    </tr>\n",
       "    <tr>\n",
       "      <th>96</th>\n",
       "      <td>988</td>\n",
       "      <td>1</td>\n",
       "      <td>0.974562</td>\n",
       "      <td>1</td>\n",
       "    </tr>\n",
       "    <tr>\n",
       "      <th>97</th>\n",
       "      <td>989</td>\n",
       "      <td>0</td>\n",
       "      <td>0.134591</td>\n",
       "      <td>0</td>\n",
       "    </tr>\n",
       "    <tr>\n",
       "      <th>98</th>\n",
       "      <td>990</td>\n",
       "      <td>1</td>\n",
       "      <td>0.621138</td>\n",
       "      <td>1</td>\n",
       "    </tr>\n",
       "    <tr>\n",
       "      <th>99</th>\n",
       "      <td>991</td>\n",
       "      <td>0</td>\n",
       "      <td>0.134465</td>\n",
       "      <td>0</td>\n",
       "    </tr>\n",
       "  </tbody>\n",
       "</table>\n",
       "<p>100 rows × 4 columns</p>\n",
       "</div>"
      ],
      "text/plain": [
       "    PassengerId  Survived     check  final\n",
       "0           892         0  0.140799      0\n",
       "1           893         1  0.560904      1\n",
       "2           894         0  0.115947      0\n",
       "3           895         0  0.140603      0\n",
       "4           896         1  0.508709      1\n",
       "..          ...       ...       ...    ...\n",
       "95          987         0  0.134717      0\n",
       "96          988         1  0.974562      1\n",
       "97          989         0  0.134591      0\n",
       "98          990         1  0.621138      1\n",
       "99          991         0  0.134465      0\n",
       "\n",
       "[100 rows x 4 columns]"
      ]
     },
     "execution_count": 62,
     "metadata": {},
     "output_type": "execute_result"
    }
   ],
   "source": [
    "data_check.head(100)"
   ]
  },
  {
   "cell_type": "code",
   "execution_count": 63,
   "metadata": {
    "ExecuteTime": {
     "end_time": "2020-09-10T14:55:12.826702Z",
     "start_time": "2020-09-10T14:55:12.812646Z"
    }
   },
   "outputs": [],
   "source": [
    "data_check = data_check.drop(['Survived','check'], axis=1)"
   ]
  },
  {
   "cell_type": "code",
   "execution_count": 64,
   "metadata": {
    "ExecuteTime": {
     "end_time": "2020-09-10T14:55:12.841660Z",
     "start_time": "2020-09-10T14:55:12.829695Z"
    },
    "scrolled": false
   },
   "outputs": [
    {
     "data": {
      "text/html": [
       "<div>\n",
       "<style scoped>\n",
       "    .dataframe tbody tr th:only-of-type {\n",
       "        vertical-align: middle;\n",
       "    }\n",
       "\n",
       "    .dataframe tbody tr th {\n",
       "        vertical-align: top;\n",
       "    }\n",
       "\n",
       "    .dataframe thead th {\n",
       "        text-align: right;\n",
       "    }\n",
       "</style>\n",
       "<table border=\"1\" class=\"dataframe\">\n",
       "  <thead>\n",
       "    <tr style=\"text-align: right;\">\n",
       "      <th></th>\n",
       "      <th>PassengerId</th>\n",
       "      <th>final</th>\n",
       "    </tr>\n",
       "  </thead>\n",
       "  <tbody>\n",
       "    <tr>\n",
       "      <th>0</th>\n",
       "      <td>892</td>\n",
       "      <td>0</td>\n",
       "    </tr>\n",
       "    <tr>\n",
       "      <th>1</th>\n",
       "      <td>893</td>\n",
       "      <td>1</td>\n",
       "    </tr>\n",
       "    <tr>\n",
       "      <th>2</th>\n",
       "      <td>894</td>\n",
       "      <td>0</td>\n",
       "    </tr>\n",
       "    <tr>\n",
       "      <th>3</th>\n",
       "      <td>895</td>\n",
       "      <td>0</td>\n",
       "    </tr>\n",
       "    <tr>\n",
       "      <th>4</th>\n",
       "      <td>896</td>\n",
       "      <td>1</td>\n",
       "    </tr>\n",
       "    <tr>\n",
       "      <th>...</th>\n",
       "      <td>...</td>\n",
       "      <td>...</td>\n",
       "    </tr>\n",
       "    <tr>\n",
       "      <th>95</th>\n",
       "      <td>987</td>\n",
       "      <td>0</td>\n",
       "    </tr>\n",
       "    <tr>\n",
       "      <th>96</th>\n",
       "      <td>988</td>\n",
       "      <td>1</td>\n",
       "    </tr>\n",
       "    <tr>\n",
       "      <th>97</th>\n",
       "      <td>989</td>\n",
       "      <td>0</td>\n",
       "    </tr>\n",
       "    <tr>\n",
       "      <th>98</th>\n",
       "      <td>990</td>\n",
       "      <td>1</td>\n",
       "    </tr>\n",
       "    <tr>\n",
       "      <th>99</th>\n",
       "      <td>991</td>\n",
       "      <td>0</td>\n",
       "    </tr>\n",
       "  </tbody>\n",
       "</table>\n",
       "<p>100 rows × 2 columns</p>\n",
       "</div>"
      ],
      "text/plain": [
       "    PassengerId  final\n",
       "0           892      0\n",
       "1           893      1\n",
       "2           894      0\n",
       "3           895      0\n",
       "4           896      1\n",
       "..          ...    ...\n",
       "95          987      0\n",
       "96          988      1\n",
       "97          989      0\n",
       "98          990      1\n",
       "99          991      0\n",
       "\n",
       "[100 rows x 2 columns]"
      ]
     },
     "execution_count": 64,
     "metadata": {},
     "output_type": "execute_result"
    }
   ],
   "source": [
    "data_check.head(100)"
   ]
  },
  {
   "cell_type": "code",
   "execution_count": 65,
   "metadata": {
    "ExecuteTime": {
     "end_time": "2020-09-10T14:55:12.856947Z",
     "start_time": "2020-09-10T14:55:12.843666Z"
    }
   },
   "outputs": [],
   "source": [
    "data_check = data_check.rename(columns = {'final' : 'Survived'})"
   ]
  },
  {
   "cell_type": "code",
   "execution_count": 66,
   "metadata": {
    "ExecuteTime": {
     "end_time": "2020-09-10T14:55:12.872414Z",
     "start_time": "2020-09-10T14:55:12.857948Z"
    },
    "scrolled": true
   },
   "outputs": [],
   "source": [
    "data_check = data_check.drop(data_check.columns[[0]], axis=1)"
   ]
  },
  {
   "cell_type": "code",
   "execution_count": 67,
   "metadata": {
    "ExecuteTime": {
     "end_time": "2020-09-10T14:55:12.887625Z",
     "start_time": "2020-09-10T14:55:12.874414Z"
    }
   },
   "outputs": [
    {
     "data": {
      "text/html": [
       "<div>\n",
       "<style scoped>\n",
       "    .dataframe tbody tr th:only-of-type {\n",
       "        vertical-align: middle;\n",
       "    }\n",
       "\n",
       "    .dataframe tbody tr th {\n",
       "        vertical-align: top;\n",
       "    }\n",
       "\n",
       "    .dataframe thead th {\n",
       "        text-align: right;\n",
       "    }\n",
       "</style>\n",
       "<table border=\"1\" class=\"dataframe\">\n",
       "  <thead>\n",
       "    <tr style=\"text-align: right;\">\n",
       "      <th></th>\n",
       "      <th>Survived</th>\n",
       "    </tr>\n",
       "  </thead>\n",
       "  <tbody>\n",
       "    <tr>\n",
       "      <th>0</th>\n",
       "      <td>0</td>\n",
       "    </tr>\n",
       "    <tr>\n",
       "      <th>1</th>\n",
       "      <td>1</td>\n",
       "    </tr>\n",
       "    <tr>\n",
       "      <th>2</th>\n",
       "      <td>0</td>\n",
       "    </tr>\n",
       "    <tr>\n",
       "      <th>3</th>\n",
       "      <td>0</td>\n",
       "    </tr>\n",
       "    <tr>\n",
       "      <th>4</th>\n",
       "      <td>1</td>\n",
       "    </tr>\n",
       "    <tr>\n",
       "      <th>...</th>\n",
       "      <td>...</td>\n",
       "    </tr>\n",
       "    <tr>\n",
       "      <th>95</th>\n",
       "      <td>0</td>\n",
       "    </tr>\n",
       "    <tr>\n",
       "      <th>96</th>\n",
       "      <td>1</td>\n",
       "    </tr>\n",
       "    <tr>\n",
       "      <th>97</th>\n",
       "      <td>0</td>\n",
       "    </tr>\n",
       "    <tr>\n",
       "      <th>98</th>\n",
       "      <td>1</td>\n",
       "    </tr>\n",
       "    <tr>\n",
       "      <th>99</th>\n",
       "      <td>0</td>\n",
       "    </tr>\n",
       "  </tbody>\n",
       "</table>\n",
       "<p>100 rows × 1 columns</p>\n",
       "</div>"
      ],
      "text/plain": [
       "    Survived\n",
       "0          0\n",
       "1          1\n",
       "2          0\n",
       "3          0\n",
       "4          1\n",
       "..       ...\n",
       "95         0\n",
       "96         1\n",
       "97         0\n",
       "98         1\n",
       "99         0\n",
       "\n",
       "[100 rows x 1 columns]"
      ]
     },
     "execution_count": 67,
     "metadata": {},
     "output_type": "execute_result"
    }
   ],
   "source": [
    "data_check.head(100)"
   ]
  },
  {
   "cell_type": "code",
   "execution_count": 68,
   "metadata": {
    "ExecuteTime": {
     "end_time": "2020-09-10T14:55:12.934004Z",
     "start_time": "2020-09-10T14:55:12.888374Z"
    }
   },
   "outputs": [
    {
     "ename": "PermissionError",
     "evalue": "[Errno 13] Permission denied: 'cnn solve.csv'",
     "output_type": "error",
     "traceback": [
      "\u001b[1;31m---------------------------------------------------------------------------\u001b[0m",
      "\u001b[1;31mPermissionError\u001b[0m                           Traceback (most recent call last)",
      "\u001b[1;32m<ipython-input-68-0edd9a07cf74>\u001b[0m in \u001b[0;36m<module>\u001b[1;34m\u001b[0m\n\u001b[1;32m----> 1\u001b[1;33m \u001b[0mdata_check\u001b[0m\u001b[1;33m.\u001b[0m\u001b[0mto_csv\u001b[0m\u001b[1;33m(\u001b[0m\u001b[1;34m'cnn solve.csv'\u001b[0m\u001b[1;33m)\u001b[0m\u001b[1;33m\u001b[0m\u001b[1;33m\u001b[0m\u001b[0m\n\u001b[0m",
      "\u001b[1;32m~\\anaconda3\\lib\\site-packages\\pandas\\core\\generic.py\u001b[0m in \u001b[0;36mto_csv\u001b[1;34m(self, path_or_buf, sep, na_rep, float_format, columns, header, index, index_label, mode, encoding, compression, quoting, quotechar, line_terminator, chunksize, date_format, doublequote, escapechar, decimal)\u001b[0m\n\u001b[0;32m   3202\u001b[0m             \u001b[0mdecimal\u001b[0m\u001b[1;33m=\u001b[0m\u001b[0mdecimal\u001b[0m\u001b[1;33m,\u001b[0m\u001b[1;33m\u001b[0m\u001b[1;33m\u001b[0m\u001b[0m\n\u001b[0;32m   3203\u001b[0m         )\n\u001b[1;32m-> 3204\u001b[1;33m         \u001b[0mformatter\u001b[0m\u001b[1;33m.\u001b[0m\u001b[0msave\u001b[0m\u001b[1;33m(\u001b[0m\u001b[1;33m)\u001b[0m\u001b[1;33m\u001b[0m\u001b[1;33m\u001b[0m\u001b[0m\n\u001b[0m\u001b[0;32m   3205\u001b[0m \u001b[1;33m\u001b[0m\u001b[0m\n\u001b[0;32m   3206\u001b[0m         \u001b[1;32mif\u001b[0m \u001b[0mpath_or_buf\u001b[0m \u001b[1;32mis\u001b[0m \u001b[1;32mNone\u001b[0m\u001b[1;33m:\u001b[0m\u001b[1;33m\u001b[0m\u001b[1;33m\u001b[0m\u001b[0m\n",
      "\u001b[1;32m~\\anaconda3\\lib\\site-packages\\pandas\\io\\formats\\csvs.py\u001b[0m in \u001b[0;36msave\u001b[1;34m(self)\u001b[0m\n\u001b[0;32m    186\u001b[0m                 \u001b[0mself\u001b[0m\u001b[1;33m.\u001b[0m\u001b[0mmode\u001b[0m\u001b[1;33m,\u001b[0m\u001b[1;33m\u001b[0m\u001b[1;33m\u001b[0m\u001b[0m\n\u001b[0;32m    187\u001b[0m                 \u001b[0mencoding\u001b[0m\u001b[1;33m=\u001b[0m\u001b[0mself\u001b[0m\u001b[1;33m.\u001b[0m\u001b[0mencoding\u001b[0m\u001b[1;33m,\u001b[0m\u001b[1;33m\u001b[0m\u001b[1;33m\u001b[0m\u001b[0m\n\u001b[1;32m--> 188\u001b[1;33m                 \u001b[0mcompression\u001b[0m\u001b[1;33m=\u001b[0m\u001b[0mdict\u001b[0m\u001b[1;33m(\u001b[0m\u001b[0mself\u001b[0m\u001b[1;33m.\u001b[0m\u001b[0mcompression_args\u001b[0m\u001b[1;33m,\u001b[0m \u001b[0mmethod\u001b[0m\u001b[1;33m=\u001b[0m\u001b[0mself\u001b[0m\u001b[1;33m.\u001b[0m\u001b[0mcompression\u001b[0m\u001b[1;33m)\u001b[0m\u001b[1;33m,\u001b[0m\u001b[1;33m\u001b[0m\u001b[1;33m\u001b[0m\u001b[0m\n\u001b[0m\u001b[0;32m    189\u001b[0m             )\n\u001b[0;32m    190\u001b[0m             \u001b[0mclose\u001b[0m \u001b[1;33m=\u001b[0m \u001b[1;32mTrue\u001b[0m\u001b[1;33m\u001b[0m\u001b[1;33m\u001b[0m\u001b[0m\n",
      "\u001b[1;32m~\\anaconda3\\lib\\site-packages\\pandas\\io\\common.py\u001b[0m in \u001b[0;36mget_handle\u001b[1;34m(path_or_buf, mode, encoding, compression, memory_map, is_text)\u001b[0m\n\u001b[0;32m    426\u001b[0m         \u001b[1;32mif\u001b[0m \u001b[0mencoding\u001b[0m\u001b[1;33m:\u001b[0m\u001b[1;33m\u001b[0m\u001b[1;33m\u001b[0m\u001b[0m\n\u001b[0;32m    427\u001b[0m             \u001b[1;31m# Encoding\u001b[0m\u001b[1;33m\u001b[0m\u001b[1;33m\u001b[0m\u001b[1;33m\u001b[0m\u001b[0m\n\u001b[1;32m--> 428\u001b[1;33m             \u001b[0mf\u001b[0m \u001b[1;33m=\u001b[0m \u001b[0mopen\u001b[0m\u001b[1;33m(\u001b[0m\u001b[0mpath_or_buf\u001b[0m\u001b[1;33m,\u001b[0m \u001b[0mmode\u001b[0m\u001b[1;33m,\u001b[0m \u001b[0mencoding\u001b[0m\u001b[1;33m=\u001b[0m\u001b[0mencoding\u001b[0m\u001b[1;33m,\u001b[0m \u001b[0mnewline\u001b[0m\u001b[1;33m=\u001b[0m\u001b[1;34m\"\"\u001b[0m\u001b[1;33m)\u001b[0m\u001b[1;33m\u001b[0m\u001b[1;33m\u001b[0m\u001b[0m\n\u001b[0m\u001b[0;32m    429\u001b[0m         \u001b[1;32melif\u001b[0m \u001b[0mis_text\u001b[0m\u001b[1;33m:\u001b[0m\u001b[1;33m\u001b[0m\u001b[1;33m\u001b[0m\u001b[0m\n\u001b[0;32m    430\u001b[0m             \u001b[1;31m# No explicit encoding\u001b[0m\u001b[1;33m\u001b[0m\u001b[1;33m\u001b[0m\u001b[1;33m\u001b[0m\u001b[0m\n",
      "\u001b[1;31mPermissionError\u001b[0m: [Errno 13] Permission denied: 'cnn solve.csv'"
     ]
    }
   ],
   "source": [
    "data_check.to_csv('cnn solve.csv')"
   ]
  }
 ],
 "metadata": {
  "kernelspec": {
   "display_name": "Python 3",
   "language": "python",
   "name": "python3"
  },
  "language_info": {
   "codemirror_mode": {
    "name": "ipython",
    "version": 3
   },
   "file_extension": ".py",
   "mimetype": "text/x-python",
   "name": "python",
   "nbconvert_exporter": "python",
   "pygments_lexer": "ipython3",
   "version": "3.7.7"
  }
 },
 "nbformat": 4,
 "nbformat_minor": 4
}
